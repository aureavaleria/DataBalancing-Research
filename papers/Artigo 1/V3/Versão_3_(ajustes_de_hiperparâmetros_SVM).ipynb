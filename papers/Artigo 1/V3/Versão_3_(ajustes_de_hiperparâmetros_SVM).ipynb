{
  "cells": [
    {
      "cell_type": "markdown",
      "metadata": {
        "id": "view-in-github",
        "colab_type": "text"
      },
      "source": [
        "<a href=\"https://colab.research.google.com/github/aureavaleria/DataBalancing-Research/blob/main/papers/Artigo%201/V3/Vers%C3%A3o_3_(ajustes_de_hiperpar%C3%A2metros_SVM).ipynb\" target=\"_parent\"><img src=\"https://colab.research.google.com/assets/colab-badge.svg\" alt=\"Open In Colab\"/></a>"
      ]
    },
    {
      "cell_type": "code",
      "source": [
        "import pandas as pd\n",
        "import numpy as np\n",
        "from sklearn.preprocessing import LabelEncoder, StandardScaler\n",
        "from sklearn.model_selection import train_test_split, StratifiedKFold, RandomizedSearchCV\n",
        "from sklearn.metrics import roc_auc_score, classification_report\n",
        "from imblearn.over_sampling import SMOTE\n",
        "from sklearn.svm import SVC\n",
        "from concurrent.futures import ProcessPoolExecutor"
      ],
      "metadata": {
        "id": "Hx-cu2bXFq2i"
      },
      "execution_count": null,
      "outputs": []
    },
    {
      "cell_type": "code",
      "source": [
        "# Carregar o dataset\n",
        "df = pd.read_csv('https://raw.githubusercontent.com/aureavaleria/Reprodu-o/main/export.csv')\n",
        "\n",
        "# Verificar e remover valores faltantes\n",
        "print(\"Valores faltantes por coluna:\\n\", df.isnull().sum())\n",
        "df.dropna(inplace=True)\n",
        "\n",
        "# Definir variáveis preditoras (X) e alvo binária (y)\n",
        "X = df[['Age recode with <1 year olds', 'Sex', 'Race recode (White, Black, Other)',\n",
        "        'Histologic Type ICD-O-3', 'Grade Recode (thru 2017)', 'Primary Site',\n",
        "        'Derived AJCC T, 7th ed (2010-2015)', 'Derived AJCC N, 7th ed (2010-2015)',\n",
        "        'CS tumor size (2004-2015)', 'CEA Pretreatment Interpretation Recode (2010+)',\n",
        "        'Tumor Deposits Recode (2010+)', 'Marital status at diagnosis',\n",
        "        'Origin recode NHIA (Hispanic, Non-Hisp)']]\n",
        "y = (df['SEER Combined Mets at DX-liver (2010+)'] == 'Yes') | (df['SEER Combined Mets at DX-lung (2010+)'] == 'Yes')\n",
        "y = y.astype(int)"
      ],
      "metadata": {
        "colab": {
          "base_uri": "https://localhost:8080/"
        },
        "id": "WjxRAQXjFs53",
        "outputId": "986f5f6c-6d8e-4628-a188-ebba130b15ec"
      },
      "execution_count": null,
      "outputs": [
        {
          "output_type": "stream",
          "name": "stdout",
          "text": [
            "Valores faltantes por coluna:\n",
            " Patient ID                                         0\n",
            "Age recode with <1 year olds                       0\n",
            "Sex                                                0\n",
            "Race recode (White, Black, Other)                  0\n",
            "Histologic Type ICD-O-3                            0\n",
            "Grade Recode (thru 2017)                           0\n",
            "Primary Site                                       0\n",
            "Derived AJCC T, 7th ed (2010-2015)                 0\n",
            "Derived AJCC N, 7th ed (2010-2015)                 0\n",
            "CS tumor size (2004-2015)                          0\n",
            "CEA Pretreatment Interpretation Recode (2010+)     0\n",
            "Tumor Deposits Recode (2010+)                      0\n",
            "Marital status at diagnosis                        0\n",
            "Origin recode NHIA (Hispanic, Non-Hisp)            0\n",
            "SEER Combined Mets at DX-lung (2010+)             15\n",
            "SEER Combined Mets at DX-liver (2010+)            12\n",
            "SEER Combined Mets at DX-bone (2010+)             14\n",
            "ICD-O-3 Hist/behav                                 0\n",
            "ICD-O-3 Hist/behav, malignant                      0\n",
            "dtype: int64\n"
          ]
        }
      ]
    },
    {
      "cell_type": "code",
      "source": [
        "label_encoders = {}\n",
        "for col in X.columns:\n",
        "    if X[col].dtype == 'object':\n",
        "        le = LabelEncoder()\n",
        "        X[col] = le.fit_transform(X[col])\n",
        "        label_encoders[col] = le\n",
        "\n",
        "# Dividir os dados em treino e teste\n",
        "X_train, X_test, y_train, y_test = train_test_split(X, y, test_size=0.2, stratify=y, random_state=42)\n",
        "\n",
        "# Balancear o conjunto de treino com SMOTE\n",
        "smote = SMOTE(random_state=42)\n",
        "X_train_bal, y_train_bal = smote.fit_resample(X_train, y_train)\n",
        "\n",
        "# Normalizar os dados\n",
        "scaler = StandardScaler()\n",
        "X_train_bal = scaler.fit_transform(X_train_bal)\n",
        "X_test = scaler.transform(X_test)"
      ],
      "metadata": {
        "colab": {
          "base_uri": "https://localhost:8080/"
        },
        "id": "-AjkzYoAFz5Y",
        "outputId": "222dc9af-229a-4d7a-93b2-8eb95a8d4379"
      },
      "execution_count": null,
      "outputs": [
        {
          "output_type": "stream",
          "name": "stderr",
          "text": [
            "<ipython-input-3-270689216fb9>:5: SettingWithCopyWarning: \n",
            "A value is trying to be set on a copy of a slice from a DataFrame.\n",
            "Try using .loc[row_indexer,col_indexer] = value instead\n",
            "\n",
            "See the caveats in the documentation: https://pandas.pydata.org/pandas-docs/stable/user_guide/indexing.html#returning-a-view-versus-a-copy\n",
            "  X[col] = le.fit_transform(X[col])\n",
            "<ipython-input-3-270689216fb9>:5: SettingWithCopyWarning: \n",
            "A value is trying to be set on a copy of a slice from a DataFrame.\n",
            "Try using .loc[row_indexer,col_indexer] = value instead\n",
            "\n",
            "See the caveats in the documentation: https://pandas.pydata.org/pandas-docs/stable/user_guide/indexing.html#returning-a-view-versus-a-copy\n",
            "  X[col] = le.fit_transform(X[col])\n",
            "<ipython-input-3-270689216fb9>:5: SettingWithCopyWarning: \n",
            "A value is trying to be set on a copy of a slice from a DataFrame.\n",
            "Try using .loc[row_indexer,col_indexer] = value instead\n",
            "\n",
            "See the caveats in the documentation: https://pandas.pydata.org/pandas-docs/stable/user_guide/indexing.html#returning-a-view-versus-a-copy\n",
            "  X[col] = le.fit_transform(X[col])\n",
            "<ipython-input-3-270689216fb9>:5: SettingWithCopyWarning: \n",
            "A value is trying to be set on a copy of a slice from a DataFrame.\n",
            "Try using .loc[row_indexer,col_indexer] = value instead\n",
            "\n",
            "See the caveats in the documentation: https://pandas.pydata.org/pandas-docs/stable/user_guide/indexing.html#returning-a-view-versus-a-copy\n",
            "  X[col] = le.fit_transform(X[col])\n",
            "<ipython-input-3-270689216fb9>:5: SettingWithCopyWarning: \n",
            "A value is trying to be set on a copy of a slice from a DataFrame.\n",
            "Try using .loc[row_indexer,col_indexer] = value instead\n",
            "\n",
            "See the caveats in the documentation: https://pandas.pydata.org/pandas-docs/stable/user_guide/indexing.html#returning-a-view-versus-a-copy\n",
            "  X[col] = le.fit_transform(X[col])\n",
            "<ipython-input-3-270689216fb9>:5: SettingWithCopyWarning: \n",
            "A value is trying to be set on a copy of a slice from a DataFrame.\n",
            "Try using .loc[row_indexer,col_indexer] = value instead\n",
            "\n",
            "See the caveats in the documentation: https://pandas.pydata.org/pandas-docs/stable/user_guide/indexing.html#returning-a-view-versus-a-copy\n",
            "  X[col] = le.fit_transform(X[col])\n",
            "<ipython-input-3-270689216fb9>:5: SettingWithCopyWarning: \n",
            "A value is trying to be set on a copy of a slice from a DataFrame.\n",
            "Try using .loc[row_indexer,col_indexer] = value instead\n",
            "\n",
            "See the caveats in the documentation: https://pandas.pydata.org/pandas-docs/stable/user_guide/indexing.html#returning-a-view-versus-a-copy\n",
            "  X[col] = le.fit_transform(X[col])\n",
            "<ipython-input-3-270689216fb9>:5: SettingWithCopyWarning: \n",
            "A value is trying to be set on a copy of a slice from a DataFrame.\n",
            "Try using .loc[row_indexer,col_indexer] = value instead\n",
            "\n",
            "See the caveats in the documentation: https://pandas.pydata.org/pandas-docs/stable/user_guide/indexing.html#returning-a-view-versus-a-copy\n",
            "  X[col] = le.fit_transform(X[col])\n",
            "<ipython-input-3-270689216fb9>:5: SettingWithCopyWarning: \n",
            "A value is trying to be set on a copy of a slice from a DataFrame.\n",
            "Try using .loc[row_indexer,col_indexer] = value instead\n",
            "\n",
            "See the caveats in the documentation: https://pandas.pydata.org/pandas-docs/stable/user_guide/indexing.html#returning-a-view-versus-a-copy\n",
            "  X[col] = le.fit_transform(X[col])\n",
            "<ipython-input-3-270689216fb9>:5: SettingWithCopyWarning: \n",
            "A value is trying to be set on a copy of a slice from a DataFrame.\n",
            "Try using .loc[row_indexer,col_indexer] = value instead\n",
            "\n",
            "See the caveats in the documentation: https://pandas.pydata.org/pandas-docs/stable/user_guide/indexing.html#returning-a-view-versus-a-copy\n",
            "  X[col] = le.fit_transform(X[col])\n"
          ]
        }
      ]
    },
    {
      "cell_type": "code",
      "source": [
        "# ### 3. Configuração de hiperparâmetros mais simples\n",
        "param_grid = {\n",
        "    \"C\": [1, 10],\n",
        "    \"kernel\": [\"linear\", \"rbf\"],\n",
        "    \"gamma\": [\"scale\", 0.1]\n",
        "}\n",
        "block_size = 3  # Combinações por bloco\n",
        "total_iterations = 9  # Total de iterações desejadas\n",
        "blocks = total_iterations // block_size\n",
        "\n",
        "cv = StratifiedKFold(n_splits=3, shuffle=True, random_state=42)  # Menos folds na validação cruzada\n",
        "\n",
        "# Função para realizar busca em um bloco\n",
        "def fit_block(n_iter):\n",
        "    print(f\"\\nExecutando bloco com {n_iter} iterações...\")\n",
        "    random_search = RandomizedSearchCV(estimator=SVC(probability=True), param_distributions=param_grid,\n",
        "                                       n_iter=n_iter, scoring=\"roc_auc\", cv=cv, n_jobs=-1, random_state=42, verbose=1)\n",
        "    random_search.fit(X_train_bal, y_train_bal)\n",
        "    return random_search.best_params_, random_search.best_score_\n",
        "\n",
        "# Iterar pelos blocos\n",
        "results = []\n",
        "for i in range(blocks):\n",
        "    print(f\"\\nIniciando bloco {i + 1} de {blocks}...\")\n",
        "    params, score = fit_block(block_size)\n",
        "    results.append((params, score))\n",
        "    print(f\"Bloco {i + 1} concluído: Melhor pontuação AUC-ROC: {score:.4f}\")\n",
        "\n",
        "# ### 4. Resultados\n",
        "# Exibir resultados de cada bloco\n",
        "for i, (params, score) in enumerate(results):\n",
        "    print(f\"\\nBloco {i + 1} - Melhores parâmetros: {params}\")\n",
        "    print(f\"Bloco {i + 1} - Melhor pontuação (AUC-ROC): {score:.4f}\")\n",
        "\n",
        "# Obter os melhores parâmetros do último bloco\n",
        "best_params = results[-1][0]\n",
        "best_model = SVC(**best_params, probability=True).fit(X_train_bal, y_train_bal)\n",
        "\n",
        "# Avaliação do modelo no conjunto de teste\n",
        "y_pred_proba = best_model.predict_proba(X_test)[:, 1]\n",
        "roc_auc = roc_auc_score(y_test, y_pred_proba)\n",
        "y_pred = best_model.predict(X_test)\n",
        "\n",
        "print(f\"\\nAUC-ROC no conjunto de teste: {roc_auc:.4f}\")\n",
        "print(\"\\nRelatório de classificação no conjunto de teste:\")\n",
        "print(classification_report(y_test, y_pred))\n"
      ],
      "metadata": {
        "colab": {
          "base_uri": "https://localhost:8080/"
        },
        "id": "sumxFd3nF7Rl",
        "outputId": "2933bd34-7646-4e78-bea5-a5cff1edca61"
      },
      "execution_count": null,
      "outputs": [
        {
          "metadata": {
            "tags": null
          },
          "name": "stdout",
          "output_type": "stream",
          "text": [
            "\n",
            "Iniciando bloco 1 de 3...\n",
            "\n",
            "Executando bloco com 3 iterações...\n",
            "Fitting 3 folds for each of 3 candidates, totalling 9 fits\n"
          ]
        }
      ]
    }
  ],
  "metadata": {
    "colab": {
      "provenance": [],
      "authorship_tag": "ABX9TyP78JxQEbSoTF14wktG4mAN",
      "include_colab_link": true
    },
    "kernelspec": {
      "display_name": "Python 3",
      "name": "python3"
    },
    "language_info": {
      "name": "python"
    }
  },
  "nbformat": 4,
  "nbformat_minor": 0
}