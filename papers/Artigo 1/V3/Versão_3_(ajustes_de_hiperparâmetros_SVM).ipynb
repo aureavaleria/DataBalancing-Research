{
  "cells": [
    {
      "cell_type": "markdown",
      "metadata": {
        "id": "view-in-github",
        "colab_type": "text"
      },
      "source": [
        "<a href=\"https://colab.research.google.com/github/aureavaleria/DataBalancing-Research/blob/main/papers/Artigo%201/V3/Vers%C3%A3o_3_(ajustes_de_hiperpar%C3%A2metros_SVM).ipynb\" target=\"_parent\"><img src=\"https://colab.research.google.com/assets/colab-badge.svg\" alt=\"Open In Colab\"/></a>"
      ]
    },
    {
      "cell_type": "code",
      "execution_count": 1,
      "metadata": {
        "id": "Hx-cu2bXFq2i"
      },
      "outputs": [],
      "source": [
        "import pandas as pd\n",
        "import numpy as np\n",
        "from sklearn.preprocessing import LabelEncoder, StandardScaler\n",
        "from sklearn.model_selection import train_test_split, StratifiedKFold, RandomizedSearchCV\n",
        "from sklearn.metrics import roc_auc_score, classification_report\n",
        "from imblearn.over_sampling import SMOTE\n",
        "from sklearn.svm import SVC\n",
        "from concurrent.futures import ProcessPoolExecutor"
      ]
    },
    {
      "cell_type": "code",
      "execution_count": 2,
      "metadata": {
        "colab": {
          "base_uri": "https://localhost:8080/"
        },
        "id": "WjxRAQXjFs53",
        "outputId": "437e632e-05e3-4e4a-d0a4-868162a39c8d"
      },
      "outputs": [
        {
          "output_type": "stream",
          "name": "stdout",
          "text": [
            "Valores faltantes por coluna:\n",
            " Patient ID                                         0\n",
            "Age recode with <1 year olds                       0\n",
            "Sex                                                0\n",
            "Race recode (White, Black, Other)                  0\n",
            "Histologic Type ICD-O-3                            0\n",
            "Grade Recode (thru 2017)                           0\n",
            "Primary Site                                       0\n",
            "Derived AJCC T, 7th ed (2010-2015)                 0\n",
            "Derived AJCC N, 7th ed (2010-2015)                 0\n",
            "CS tumor size (2004-2015)                          0\n",
            "CEA Pretreatment Interpretation Recode (2010+)     0\n",
            "Tumor Deposits Recode (2010+)                      0\n",
            "Marital status at diagnosis                        0\n",
            "Origin recode NHIA (Hispanic, Non-Hisp)            0\n",
            "SEER Combined Mets at DX-lung (2010+)             15\n",
            "SEER Combined Mets at DX-liver (2010+)            12\n",
            "SEER Combined Mets at DX-bone (2010+)             14\n",
            "ICD-O-3 Hist/behav                                 0\n",
            "ICD-O-3 Hist/behav, malignant                      0\n",
            "dtype: int64\n"
          ]
        }
      ],
      "source": [
        "# Carregar o dataset\n",
        "df = pd.read_csv('https://raw.githubusercontent.com/aureavaleria/Reprodu-o/main/export.csv')\n",
        "\n",
        "# Verificar e remover valores faltantes\n",
        "print(\"Valores faltantes por coluna:\\n\", df.isnull().sum())\n",
        "df.dropna(inplace=True)\n",
        "\n",
        "# Definir variáveis preditoras (X) e alvo binária (y)\n",
        "X = df[['Age recode with <1 year olds', 'Sex', 'Race recode (White, Black, Other)',\n",
        "        'Histologic Type ICD-O-3', 'Grade Recode (thru 2017)', 'Primary Site',\n",
        "        'Derived AJCC T, 7th ed (2010-2015)', 'Derived AJCC N, 7th ed (2010-2015)',\n",
        "        'CS tumor size (2004-2015)', 'CEA Pretreatment Interpretation Recode (2010+)',\n",
        "        'Tumor Deposits Recode (2010+)', 'Marital status at diagnosis',\n",
        "        'Origin recode NHIA (Hispanic, Non-Hisp)']]\n",
        "y = (df['SEER Combined Mets at DX-liver (2010+)'] == 'Yes') | (df['SEER Combined Mets at DX-lung (2010+)'] == 'Yes')\n",
        "y = y.astype(int)"
      ]
    },
    {
      "cell_type": "code",
      "execution_count": 3,
      "metadata": {
        "colab": {
          "base_uri": "https://localhost:8080/"
        },
        "id": "sumxFd3nF7Rl",
        "outputId": "7d54950c-90fb-4033-a699-acbe027024cc"
      },
      "outputs": [
        {
          "output_type": "stream",
          "name": "stdout",
          "text": [
            "\n",
            "Iniciando bloco 1 com 10 iterações...\n",
            "Iniciando bloco 2 com 10 iterações...\n",
            "\n",
            "Fitting 3 folds for each of 10 candidates, totalling 30 fitsFitting 3 folds for each of 10 candidates, totalling 30 fits\n",
            "\n"
          ]
        },
        {
          "output_type": "stream",
          "name": "stderr",
          "text": [
            "/usr/local/lib/python3.10/dist-packages/numpy/ma/core.py:2820: RuntimeWarning: invalid value encountered in cast\n",
            "  _data = np.array(data, dtype=dtype, copy=copy,\n"
          ]
        },
        {
          "output_type": "stream",
          "name": "stdout",
          "text": [
            "Bloco 1 concluído.\n",
            "\n",
            "Iniciando bloco 3 com 10 iterações...\n",
            "Bloco 2 concluído.\n",
            "Fitting 3 folds for each of 10 candidates, totalling 30 fits\n",
            "Bloco 3 concluído.\n",
            "\n",
            "Bloco 1 - Melhores parâmetros: {'kernel': 'poly', 'gamma': 'scale', 'degree': 3, 'C': 10}\n",
            "Bloco 1 - Melhor pontuação (AUC-ROC): 0.6957\n",
            "\n",
            "Bloco 2 - Melhores parâmetros: {'kernel': 'poly', 'gamma': 'scale', 'degree': 3, 'C': 10}\n",
            "Bloco 2 - Melhor pontuação (AUC-ROC): 0.6957\n",
            "\n",
            "Bloco 3 - Melhores parâmetros: {'kernel': 'poly', 'gamma': 'scale', 'degree': 3, 'C': 10}\n",
            "Bloco 3 - Melhor pontuação (AUC-ROC): 0.6957\n",
            "\n",
            "AUC-ROC no conjunto de teste: 0.7200\n",
            "\n",
            "Relatório de classificação no conjunto de teste:\n",
            "              precision    recall  f1-score   support\n",
            "\n",
            "           0       0.73      0.53      0.62        15\n",
            "           1       0.63      0.80      0.71        15\n",
            "\n",
            "    accuracy                           0.67        30\n",
            "   macro avg       0.68      0.67      0.66        30\n",
            "weighted avg       0.68      0.67      0.66        30\n",
            "\n"
          ]
        }
      ],
      "source": [
        "from concurrent.futures import ProcessPoolExecutor\n",
        "from sklearn.model_selection import RandomizedSearchCV\n",
        "from sklearn.svm import SVC\n",
        "from sklearn.metrics import roc_auc_score, classification_report\n",
        "\n",
        "# Função para realizar busca em um bloco\n",
        "def fit_block(n_iter, block_index, X_train, y_train, param_grid, cv):\n",
        "    \"\"\"\n",
        "    Executa RandomizedSearchCV em um bloco de dados.\n",
        "    \"\"\"\n",
        "    print(f\"\\nIniciando bloco {block_index + 1} com {n_iter} iterações...\")\n",
        "    random_search = RandomizedSearchCV(\n",
        "        estimator=SVC(probability=True),\n",
        "        param_distributions=param_grid,\n",
        "        n_iter=n_iter,\n",
        "        scoring=\"roc_auc\",\n",
        "        cv=cv,\n",
        "        n_jobs=-1,\n",
        "        random_state=42,\n",
        "        verbose=1\n",
        "    )\n",
        "    random_search.fit(X_train, y_train)\n",
        "    print(f\"Bloco {block_index + 1} concluído.\")\n",
        "    return random_search.best_params_, random_search.best_score_\n",
        "\n",
        "# Divisão em blocos e paralelização\n",
        "def parallel_random_search(blocks, block_size, X_train, y_train, param_grid, cv):\n",
        "    \"\"\"\n",
        "    Paraleliza a execução de RandomizedSearchCV em blocos.\n",
        "    \"\"\"\n",
        "    with ProcessPoolExecutor() as executor:\n",
        "        futures = [\n",
        "            executor.submit(fit_block, block_size, i, X_train, y_train, param_grid, cv)\n",
        "            for i in range(blocks)\n",
        "        ]\n",
        "        results = [future.result() for future in futures]\n",
        "    return results\n",
        "\n",
        "# Ajuste de hiperparâmetros\n",
        "def tune_hyperparameters(X_train, y_train, X_test, y_test, param_grid, cv, blocks=3, block_size=10):\n",
        "    \"\"\"\n",
        "    Realiza ajuste de hiperparâmetros em blocos e avalia o melhor modelo no conjunto de teste.\n",
        "    \"\"\"\n",
        "    # Realizar busca paralela\n",
        "    results = parallel_random_search(blocks, block_size, X_train, y_train, param_grid, cv)\n",
        "\n",
        "    # Exibir resultados de cada bloco\n",
        "    for i, (params, score) in enumerate(results):\n",
        "        print(f\"\\nBloco {i + 1} - Melhores parâmetros: {params}\")\n",
        "        print(f\"Bloco {i + 1} - Melhor pontuação (AUC-ROC): {score:.4f}\")\n",
        "\n",
        "    # Obter os melhores parâmetros do último bloco\n",
        "    best_params = results[-1][0]\n",
        "    best_model = SVC(**best_params, probability=True).fit(X_train, y_train)\n",
        "\n",
        "    # Avaliação do modelo no conjunto de teste\n",
        "    y_pred_proba = best_model.predict_proba(X_test)[:, 1]\n",
        "    roc_auc = roc_auc_score(y_test, y_pred_proba)\n",
        "    y_pred = best_model.predict(X_test)\n",
        "\n",
        "    print(f\"\\nAUC-ROC no conjunto de teste: {roc_auc:.4f}\")\n",
        "    print(\"\\nRelatório de classificação no conjunto de teste:\")\n",
        "    print(classification_report(y_test, y_pred))\n",
        "\n",
        "    return best_model, roc_auc\n",
        "\n",
        "# Parâmetros do modelo e da validação\n",
        "param_grid = {\n",
        "    'C': [0.1, 1, 10],\n",
        "    'kernel': ['linear', 'rbf', 'poly'],\n",
        "    'gamma': ['scale', 'auto'],\n",
        "    'degree': [2, 3, 4]\n",
        "}\n",
        "cv = 3  # Número de folds para validação cruzada\n",
        "\n",
        "# Simulação dos dados (substituir pelos seus conjuntos reais)\n",
        "# X_train_bal, y_train_bal, X_test, y_test são seus datasets pré-processados\n",
        "import numpy as np\n",
        "X_train_bal = np.random.rand(100, 5)\n",
        "y_train_bal = np.random.randint(0, 2, 100)\n",
        "X_test = np.random.rand(30, 5)\n",
        "y_test = np.random.randint(0, 2, 30)\n",
        "\n",
        "# Número de blocos e iterações por bloco\n",
        "blocks = 3\n",
        "block_size = 10\n",
        "\n",
        "# Execução do ajuste de hiperparâmetros e avaliação\n",
        "best_model, test_roc_auc = tune_hyperparameters(\n",
        "    X_train_bal, y_train_bal, X_test, y_test, param_grid, cv, blocks, block_size\n",
        ")\n"
      ]
    }
  ],
  "metadata": {
    "colab": {
      "provenance": [],
      "toc_visible": true,
      "authorship_tag": "ABX9TyPPgu+Z+U5Nr+mZC4JrgHcR",
      "include_colab_link": true
    },
    "kernelspec": {
      "display_name": "Python 3",
      "name": "python3"
    },
    "language_info": {
      "name": "python"
    }
  },
  "nbformat": 4,
  "nbformat_minor": 0
}