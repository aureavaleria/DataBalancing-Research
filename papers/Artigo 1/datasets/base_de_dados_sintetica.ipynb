{
  "nbformat": 4,
  "nbformat_minor": 0,
  "metadata": {
    "colab": {
      "provenance": []
    },
    "kernelspec": {
      "name": "python3",
      "display_name": "Python 3"
    },
    "language_info": {
      "name": "python"
    }
  },
  "cells": [
    {
      "cell_type": "code",
      "execution_count": 2,
      "metadata": {
        "colab": {
          "base_uri": "https://localhost:8080/"
        },
        "id": "HqmKjEz6a6jY",
        "outputId": "cb1d0e07-3225-4d5f-95a6-708f1afae8ff"
      },
      "outputs": [
        {
          "output_type": "stream",
          "name": "stdout",
          "text": [
            "Soma das probabilidades de Primary tumor site: 1.0\n",
            "Arquivo CSV salvo como 'bdsintetico.csv'\n"
          ]
        }
      ],
      "source": [
        "# Importação das bibliotecas necessárias\n",
        "from sklearn.metrics import confusion_matrix, classification_report, roc_auc_score, roc_curve, precision_recall_curve, average_precision_score\n",
        "import matplotlib.pyplot as plt\n",
        "import pandas as pd\n",
        "import numpy as np\n",
        "import seaborn as sns\n",
        "from sklearn.ensemble import RandomForestClassifier\n",
        "from sklearn.model_selection import train_test_split\n",
        "\n",
        "# Definindo o número de pacientes na base de dados de validação externa\n",
        "num_patients = 196\n",
        "\n",
        "# Probabilidades para cada local primário do tumor (Primary tumor site)\n",
        "# A soma das probabilidades deve ser exatamente 1\n",
        "primary_tumor_site_probabilities = [0.062, 0.052, 0.3, 0.02, 0.15, 0.05, 0.12, 0.114, 0.022, 0.11]\n",
        "print(\"Soma das probabilidades de Primary tumor site:\", sum(primary_tumor_site_probabilities))\n",
        "\n",
        "# Gerando a base de dados fictícia\n",
        "# A seguir, criamos um dicionário onde cada chave representa uma variável (coluna) da base de dados\n",
        "data = {\n",
        "    # Idade dos pacientes (Age): utilizando uma distribuição normal com média de 65 anos e desvio padrão de 10 anos\n",
        "    # Isso simula idades típicas de pacientes em uma faixa etária avançada, arredondadas para números inteiros\n",
        "    \"Age (years)\": np.random.normal(loc=65, scale=10, size=num_patients).astype(int),\n",
        "\n",
        "    # Gênero dos pacientes (Gender): escolhendo entre \"Female\" e \"Male\" com as probabilidades fornecidas\n",
        "    \"Gender\": np.random.choice([\"Female\", \"Male\"], size=num_patients, p=[0.449, 0.551]),\n",
        "\n",
        "    # Raça dos pacientes (Race): escolhendo entre \"White\", \"Black\", e \"Other\" com as probabilidades fornecidas\n",
        "    \"Race\": np.random.choice([\"White\", \"Black\", \"Other\"], size=num_patients, p=[0.77, 0.09, 0.14]),\n",
        "\n",
        "    # Origem hispânica (Hispanic): indicando se o paciente é hispânico ou não\n",
        "    \"Hispanic\": np.random.choice([\"No\", \"Yes\"], size=num_patients, p=[0.92, 0.08]),\n",
        "\n",
        "    # Estado civil dos pacientes (Marital status): escolhendo entre \"Married\", \"Single\", e \"Unknown\"\n",
        "    \"Marital status\": np.random.choice([\"Married\", \"Single\", \"Unknown\"], size=num_patients, p=[0.41, 0.53, 0.06]),\n",
        "\n",
        "    # Tipo histológico do tumor (Histological type): escolhendo entre três tipos de células\n",
        "    \"Histological type\": np.random.choice([\"Adenocarcinoma\", \"Mucinous\", \"Signet ring cell carcinoma\"], size=num_patients, p=[0.83, 0.14, 0.03]),\n",
        "\n",
        "    # Grau do tumor (Grade): representando a diferenciação do tumor em quatro graus, além de \"Unknown\"\n",
        "    \"Grade\": np.random.choice([\"Grade I\", \"Grade II\", \"Grade III\", \"Grade IV\", \"Unknown\"], size=num_patients, p=[0.133, 0.725, 0.122, 0.015, 0.005]),\n",
        "\n",
        "    # Localização primária do tumor (Primary tumor site): distribuída entre 10 possíveis locais\n",
        "    \"Primary tumor site\": np.random.choice(\n",
        "        [\"Cecum\", \"Appendix\", \"Ascending colon\", \"Hepatic flexure of colon\", \"Transverse colon\",\n",
        "         \"Splenic flexure of colon\", \"Descending colon\", \"Sigmoid colon\", \"Rectum\", \"Overlapping lesion of colon\"],\n",
        "        size=num_patients,\n",
        "        p=primary_tumor_site_probabilities\n",
        "    ),\n",
        "\n",
        "    # Estágio T do tumor (T stage): representando a extensão do tumor\n",
        "    \"T stage\": np.random.choice([\"T1\", \"T2\", \"T3\", \"T4\", \"TX\"], size=num_patients, p=[0.031, 0.087, 0.658, 0.224, 0.0]),\n",
        "\n",
        "    # Estágio N do tumor (N stage): representando a extensão de comprometimento linfático\n",
        "    \"N stage\": np.random.choice([\"N0\", \"N1\", \"N2\", \"NX\"], size=num_patients, p=[0.571, 0.286, 0.143, 0.0]),\n",
        "\n",
        "    # Tamanho do tumor em centímetros (Tumor size): valores contínuos baseados em proporções\n",
        "    # Aproximadamente 50.5% dos tumores são <5 cm, 34.2% >=5 cm, e 16.2% são \"Unknown\" (NaN)\n",
        "    \"Tumor size (cm)\": np.where(\n",
        "        np.random.rand(num_patients) < 0.505,  # 50.5% dos tumores serão <5 cm\n",
        "        np.random.normal(loc=3, scale=1, size=num_patients),  # Tamanho médio de 3 cm para tumores <5 cm\n",
        "        np.where(\n",
        "            np.random.rand(num_patients) < 0.342 / (1 - 0.505),  # 34.2% dos tumores restantes são >=5 cm\n",
        "            np.random.normal(loc=7, scale=1.5, size=num_patients),  # Tamanho médio de 7 cm para tumores >=5 cm\n",
        "            np.nan  # 16.2% dos tumores são \"Unknown\" (valores NaN)\n",
        "        )\n",
        "    ).round(2),  # Arredonda o tamanho do tumor para 2 casas decimais\n",
        "\n",
        "    # Níveis de CEA (antígeno carcinoembrionário): indicativo da presença de antígenos tumorais\n",
        "    \"CEA\": np.random.choice([\"Negative\", \"Borderline\", \"Positive\", \"Unknown\"], size=num_patients, p=[0.536, 0.0, 0.296, 0.168]),\n",
        "\n",
        "    # Depósitos tumorais (Tumor deposits): indicação da presença de depósitos tumorais\n",
        "    \"Tumor deposits\": np.random.choice([\"No\", \"Yes\", \"Unknown\"], size=num_patients, p=[0.91, 0.09, 0.0]),\n",
        "\n",
        "    # Metástase em fígado e/ou pulmão (Liver and/or lung metastasis): presença de metástase\n",
        "    \"Liver and/or lung metastasis\": np.random.choice([\"No\", \"Yes\"], size=num_patients, p=[0.825, 0.175])\n",
        "}\n",
        "\n",
        "# Criação do DataFrame com os dados ajustados\n",
        "# A função pd.DataFrame cria uma tabela estruturada a partir do dicionário `data`\n",
        "df = pd.DataFrame(data)\n",
        "\n",
        "# Salvando o DataFrame em um arquivo CSV\n",
        "# O arquivo é salvo no caminho especificado, sem incluir o índice\n",
        "df.to_csv('/content/bdsintetico.csv', index=False)\n",
        "print(\"Arquivo CSV salvo como 'bdsintetico.csv'\")\n"
      ]
    }
  ]
}