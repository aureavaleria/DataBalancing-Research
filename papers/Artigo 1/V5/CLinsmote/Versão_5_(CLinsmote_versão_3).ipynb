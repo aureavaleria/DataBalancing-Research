{
  "cells": [
    {
      "cell_type": "markdown",
      "metadata": {
        "id": "view-in-github",
        "colab_type": "text"
      },
      "source": [
        "<a href=\"https://colab.research.google.com/github/aureavaleria/DataBalancing-Research/blob/main/papers/Artigo%201/V5/CLinsmote/Vers%C3%A3o_5_(CLinsmote_vers%C3%A3o_3).ipynb\" target=\"_parent\"><img src=\"https://colab.research.google.com/assets/colab-badge.svg\" alt=\"Open In Colab\"/></a>"
      ]
    },
    {
      "cell_type": "markdown",
      "metadata": {
        "id": "AuLJn5A4B7XA"
      },
      "source": [
        "### ***Machine learning for predicting liver and/or lung metastasis in colorectal cancer: A retrospective study based on the SEER database***"
      ]
    },
    {
      "cell_type": "markdown",
      "metadata": {
        "id": "L6nNMd_ZF8r7"
      },
      "source": [
        "Este estudo propõe um modelo de aprendizado de máquina para prever o risco de metástase hepática e/ou pulmonar em pacientes com câncer colorretal (CRC). A partir da base de dados SEER, foram extraídos dados aproximadamente 53 mil pacientes com diagnóstico patológico de CRC entre 2010 e 2015, desenvolvendo sete modelos de algoritmos(Decision tree, Randon Forest, Naive Bayes,  KNN,XGBoost, Gradient Boosting."
      ]
    },
    {
      "cell_type": "markdown",
      "metadata": {
        "id": "EsC61a-EHKfA"
      },
      "source": [
        "### Parte 1:  Importação das Bibliotecas e Carregamento do Dataset\n",
        "\n",
        "Nesta etapa, importamos as bibliotecas necessárias para análise e carregamos o dataset. Realizamos uma verificação inicial para identificar e remover valores faltantes e definimos as variáveis preditoras (X) e as variáveis alvo (y), preparando os dados para o pré-processamento e a modelagem."
      ]
    },
    {
      "cell_type": "code",
      "execution_count": null,
      "metadata": {
        "collapsed": true,
        "id": "6zj66AQc_z9U"
      },
      "outputs": [],
      "source": [
        "from imblearn.over_sampling import SMOTE, BorderlineSMOTE, ADASYN\n",
        "from sklearn.model_selection import StratifiedKFold\n",
        "from sklearn.metrics import f1_score, roc_auc_score, confusion_matrix, average_precision_score\n",
        "from sklearn.tree import DecisionTreeClassifier\n",
        "from sklearn.ensemble import RandomForestClassifier, GradientBoostingClassifier\n",
        "from sklearn.svm import SVC\n",
        "from sklearn.naive_bayes import GaussianNB\n",
        "from sklearn.neighbors import KNeighborsClassifier\n",
        "from xgboost import XGBClassifier\n",
        "import numpy as np\n",
        "import pandas as pd\n",
        "\n",
        "\n",
        "# Carregar o dataset\n",
        "df = pd.read_csv('https://raw.githubusercontent.com/aureavaleria/dataset/refs/heads/main/export.csv')\n",
        "df.dropna(inplace=True)\n",
        "\n",
        "# Definir as variáveis preditoras e a variável alvo\n",
        "X = df[['Age recode with <1 year olds', 'Sex', 'Race recode (White, Black, Other)',\n",
        "        'Histologic Type ICD-O-3', 'Grade Recode (thru 2017)', 'Primary Site',\n",
        "        'Derived AJCC T, 7th ed (2010-2015)', 'Derived AJCC N, 7th ed (2010-2015)',\n",
        "        'CS tumor size (2004-2015)', 'CEA Pretreatment Interpretation Recode (2010+)',\n",
        "        'Tumor Deposits Recode (2010+)', 'Marital status at diagnosis']]\n",
        "\n",
        "y_liver = df['SEER Combined Mets at DX-liver (2010+)']\n",
        "y_lung = df['SEER Combined Mets at DX-lung (2010+)']\n",
        "\n",
        "y = pd.concat([y_liver, y_lung], axis=1)"
      ]
    },
    {
      "cell_type": "markdown",
      "metadata": {
        "id": "fv7ZXmnvLghh"
      },
      "source": [
        "###Parte 2:  Preparação das Variáveis Alvo e Codificação de Variáveis Categóricas\n",
        "\n",
        "Nesta etapa, preparamos as variáveis alvo (y), combinando as informações de metástase hepática e pulmonar em uma coluna binária para indicar a presença de metástase. Também aplicamos LabelEncoder para transformar variáveis categóricas de X em valores numéricos, facilitando o uso dos dados em modelos de aprendizado de máquina."
      ]
    },
    {
      "cell_type": "code",
      "execution_count": null,
      "metadata": {
        "colab": {
          "base_uri": "https://localhost:8080/"
        },
        "collapsed": true,
        "id": "slmbLH5kLdKP",
        "outputId": "81d306e3-2cee-4cea-a5dd-983a77fd9fff"
      },
      "outputs": [
        {
          "output_type": "stream",
          "name": "stdout",
          "text": [
            "Tamanho de X: 53448\n",
            "Tamanho de y: 53448\n"
          ]
        }
      ],
      "source": [
        "y = pd.concat([y_liver, y_lung], axis=1)\n",
        "\n",
        "# Função para combinar as informações de metástase hepática e pulmonar em uma coluna binária 'Binary Mets'\n",
        "def combine_mets_binary(row):\n",
        "    if row['SEER Combined Mets at DX-liver (2010+)'] == 'Yes' or row['SEER Combined Mets at DX-lung (2010+)'] == 'Yes':\n",
        "        return 1  # Com metástase\n",
        "    else:\n",
        "        return 0  # Sem metástase\n",
        "\n",
        "# Aplicar a função para criar a nova coluna binária 'Binary Mets' em 'y'\n",
        "y['Binary Mets'] = y.apply(combine_mets_binary, axis=1)\n",
        "\n",
        "# Verificar se 'X' e 'y' têm o mesmo número de amostras\n",
        "print(f\"Tamanho de X: {len(X)}\")\n",
        "print(f\"Tamanho de y: {len(y)}\")\n",
        "\n",
        "# Salvar o DataFrame 'y' em um arquivo CSV para referência futura ou análise adicional\n",
        "y.to_csv('/content/Y.csv')"
      ]
    },
    {
      "cell_type": "markdown",
      "metadata": {
        "id": "FzQVE1mmMiRn"
      },
      "source": [
        "###Parte 3: Definição e Configuração dos Modelos de Aprendizado de Máquina e Validação Cruzada\n",
        "\n",
        "Aqui, configuramos os principais algoritmos de aprendizado de máquina, incluindo Decision Tree, Random Forest, SVM, Naive Bayes, KNN, XGBoost e Gradient Boosting. Cada modelo é definido com parâmetros específicos para otimizar o desempenho. Em seguida, aplicamos uma validação cruzada estratificada com 5 divisões para avaliar e comparar a performance dos modelos de maneira consistente e robusta."
      ]
    },
    {
      "cell_type": "code",
      "source": [
        "import pandas as pd\n",
        "import numpy as np\n",
        "from sklearn.impute import SimpleImputer\n",
        "\n",
        "def clin_smote_balance(X, y):\n",
        "    # Imputação de valores ausentes apenas para colunas numéricas\n",
        "    num_cols = X.select_dtypes(include=[np.number]).columns\n",
        "    imputer = SimpleImputer(strategy='mean')\n",
        "    X[num_cols] = imputer.fit_transform(X[num_cols])\n",
        "\n",
        "    # Separação das classes\n",
        "    X['Binary Mets'] = y\n",
        "    X_major = X[X['Binary Mets'] == 0].drop(columns=['Binary Mets'])\n",
        "    X_minor = X[X['Binary Mets'] == 1].drop(columns=['Binary Mets'])\n",
        "\n",
        "    # Perfil típico da classe majoritária\n",
        "    perfil_majoritario = {}\n",
        "    for col in X_major.columns:\n",
        "        if X_major[col].nunique() < 10:\n",
        "            freq = X_major[col].value_counts(normalize=True)\n",
        "            dominante = freq[freq >= 0.7]\n",
        "            if not dominante.empty:\n",
        "                perfil_majoritario[col] = dominante.index[0]\n",
        "        else:\n",
        "            if pd.api.types.is_numeric_dtype(X_major[col]):\n",
        "                perfil_majoritario[col] = X_major[col].median()  # para números\n",
        "            else:\n",
        "                perfil_majoritario[col] = X_major[col].mode()[0]  # para categorias\n",
        "\n",
        "    # Classificação das amostras minoritárias\n",
        "    minor_status = []\n",
        "    for _, row in X_minor.iterrows():\n",
        "        match, total = 0, 0\n",
        "        for col in perfil_majoritario:\n",
        "            if col in X_minor.columns:\n",
        "                total += 1\n",
        "                # Colunas categóricas (menos de 10 únicos)\n",
        "                if X_minor[col].nunique() < 10:\n",
        "                    if row[col] == perfil_majoritario[col]:\n",
        "                        match += 1\n",
        "                else:\n",
        "                    # Colunas numéricas: comparação por diferença relativa\n",
        "                    if pd.api.types.is_numeric_dtype(X_minor[col]):\n",
        "                        try:\n",
        "                            if abs(row[col] - perfil_majoritario[col]) < 0.1 * abs(perfil_majoritario[col]):\n",
        "                                match += 1\n",
        "                        except Exception:\n",
        "                            pass\n",
        "                    else:\n",
        "                        # Colunas categóricas (de texto, mas mais de 10 únicos)\n",
        "                        if row[col] == perfil_majoritario[col]:\n",
        "                            match += 1\n",
        "\n",
        "        percent = match / total if total > 0 else 0\n",
        "        minor_status.append('🟢' if percent < 0.3 else '🟡' if percent < 0.7 else '🔴')\n",
        "\n",
        "    X_minor['Status'] = minor_status\n",
        "\n",
        "    # Supondo que X_minor já tem a coluna 'Status' com os rótulos 🟢🟡🔴\n",
        "\n",
        "    # 1. Seleciona todos os verdes\n",
        "    X_minor_green = X_minor[X_minor['Status'] == '🟢'].drop(columns='Status')\n",
        "\n",
        "    # 1a. Remove outliers numéricos do grupo verde usando IQR\n",
        "    def remove_outliers_iqr(df):\n",
        "        mask = pd.Series([True]*len(df), index=df.index)\n",
        "        num_cols = df.select_dtypes(include=[np.number]).columns\n",
        "        for col in num_cols:\n",
        "            Q1 = df[col].quantile(0.25)\n",
        "            Q3 = df[col].quantile(0.75)\n",
        "            IQR = Q3 - Q1\n",
        "            lower = Q1 - 1.5 * IQR\n",
        "            upper = Q3 + 1.5 * IQR\n",
        "            mask = mask & df[col].between(lower, upper)\n",
        "        return df[mask]\n",
        "\n",
        "    X_minor_green = remove_outliers_iqr(X_minor_green)\n",
        "\n",
        "\n",
        "    # 2. Seleciona uma fração dos intermediários (por exemplo, 60%)\n",
        "    frac_intermediarios = 0.6\n",
        "    X_minor_yellow = X_minor[X_minor['Status'] == '🟡'].sample(frac=frac_intermediarios, random_state=42).drop(columns='Status')\n",
        "\n",
        "    # 3. Junta verdes e os intermediários escolhidos\n",
        "    X_pool_sintetico = pd.concat([X_minor_green, X_minor_yellow])\n",
        "\n",
        "    # 4. Gera as amostras sintéticas a partir desse pool\n",
        "    def gerar_sinteticas(df, n_amostras):\n",
        "        sinteticas = []\n",
        "        for _ in range(n_amostras):\n",
        "            base = df.sample(2, replace=True)\n",
        "            nova = {col: np.random.choice(base[col].values) for col in df.columns}\n",
        "            sinteticas.append(nova)\n",
        "        return pd.DataFrame(sinteticas)\n",
        "\n",
        "    n_sinteticas = max(0, int(0.3 * (len(X_major) - len(X_minor))))\n",
        "    X_sinteticas = gerar_sinteticas(X_pool_sintetico, n_sinteticas)\n",
        "\n",
        "    # 5. Junta tudo\n",
        "    X_major['Binary Mets'] = 0\n",
        "    X_minor['Binary Mets'] = 1\n",
        "    X_sinteticas['Binary Mets'] = 1\n",
        "\n",
        "    X_balanceado = pd.concat([X_major, X_minor, X_sinteticas], ignore_index=True)\n",
        "    y_balanceado = X_balanceado['Binary Mets']\n",
        "    X_balanceado.drop(columns=['Binary Mets', 'Status'], errors='ignore', inplace=True)\n",
        "\n",
        "    return X_balanceado, y_balanceado\n",
        "\n"
      ],
      "metadata": {
        "id": "MYhfSO896ksd"
      },
      "execution_count": null,
      "outputs": []
    },
    {
      "cell_type": "code",
      "execution_count": null,
      "metadata": {
        "id": "IikJrwJzYznn",
        "colab": {
          "base_uri": "https://localhost:8080/"
        },
        "outputId": "8be6ca7e-e02a-4179-d01d-ec3ac62e109e"
      },
      "outputs": [
        {
          "output_type": "stream",
          "name": "stderr",
          "text": [
            "/tmp/ipython-input-107-3939197387.py:4: SettingWithCopyWarning: \n",
            "A value is trying to be set on a copy of a slice from a DataFrame.\n",
            "Try using .loc[row_indexer,col_indexer] = value instead\n",
            "\n",
            "See the caveats in the documentation: https://pandas.pydata.org/pandas-docs/stable/user_guide/indexing.html#returning-a-view-versus-a-copy\n",
            "  X[cat_cols] = X[cat_cols].astype('category')\n"
          ]
        }
      ],
      "source": [
        "import lightgbm as lgb\n",
        "\n",
        "cat_cols = X.select_dtypes(include='object').columns\n",
        "X[cat_cols] = X[cat_cols].astype('category')\n",
        "\n",
        "# Defina seus modelos:\n",
        "models = {\n",
        "    \"LightGBM\": lgb.LGBMClassifier()\n",
        "    # ... outros modelos se desejar (mas só LightGBM aceita direto!)\n",
        "}\n",
        "\n",
        "smote_techniques = {\n",
        "    \"clin_smote_balance\": clin_smote_balance\n",
        "}\n",
        "\n",
        "\n",
        "# Configuração da validação cruzada estratificada com 5 divisões (folds)\n",
        "# Isso garante que a proporção de classes seja mantida em cada divisão, e o shuffle embaralha os dados antes de dividir\n",
        "kf = StratifiedKFold(n_splits=5, shuffle=True, random_state=42)"
      ]
    },
    {
      "cell_type": "markdown",
      "metadata": {
        "id": "FfbK68vJNOEX"
      },
      "source": [
        "### Parte 4: Avaliação e Comparação dos Modelos de Aprendizado de Máquina em Conjuntos de Treino, Validação e Teste\n",
        "\n",
        "\n",
        "Este bloco de código implementa a validação cruzada para treinar e avaliar os modelos de aprendizado de máquina definidos no pipeline. Ele utiliza a técnica de K-Fold Cross-Validation para dividir os dados em múltiplos folds, garantindo uma avaliação robusta do desempenho dos modelos. Durante cada fold, os dados de treinamento são balanceados utilizando o SMOTE e escalados com o StandardScaler. Métricas de desempenho, como precisão, recall, F1-Score, especificidade, AUC-ROC e AUPR, são calculadas tanto para o conjunto de treinamento quanto para o conjunto de teste. Além disso, visualizações como matrizes de confusão e curvas ROC e Precisão-Recall são geradas. Ao final, as métricas médias de todos os folds são compiladas para comparação."
      ]
    },
    {
      "cell_type": "code",
      "source": [
        "import re\n",
        "from sklearn.metrics import roc_curve, auc, accuracy_score, precision_score, recall_score, f1_score\n",
        "\n",
        "\n",
        "roc_curves_test = {smote_name: {} for smote_name in smote_techniques.keys()}\n",
        "roc_curves_train = {smote_name: {} for smote_name in smote_techniques.keys()}\n",
        "results_table_test = []\n",
        "results_table_train = []\n",
        "\n",
        "for smote_name, smote in smote_techniques.items():\n",
        "    for model_name, model in models.items():\n",
        "        print(f\"\\nAplicando {smote_name} com {model_name}\")\n",
        "        mean_fpr = np.linspace(0, 1, 100)\n",
        "        tprs_test, aucs_test = [], []\n",
        "        accuracies_test, precisions_test, recalls_test, f1_scores_test = [], [], [], []\n",
        "        tprs_train, aucs_train = [], []\n",
        "        accuracies_train, precisions_train, recalls_train, f1_scores_train = [], [], [], []\n",
        "\n",
        "        for train_index, test_index in kf.split(X, y['Binary Mets']):\n",
        "            X_train, X_test = X.iloc[train_index], X.iloc[test_index]\n",
        "            y_train, y_test = y['Binary Mets'].iloc[train_index], y['Binary Mets'].iloc[test_index]\n",
        "\n",
        "            # Balanceamento com RandomOverSampler (funciona com categóricos)\n",
        "            if smote_name == 'clin_smote_balance':\n",
        "                X_train_res, y_train_res = smote(X_train.copy(), y_train.copy())\n",
        "            else:\n",
        "                X_train_res, y_train_res = smote.fit_resample(X_train, y_train)\n",
        "\n",
        "            for col in X_train_res.select_dtypes(include='object').columns:\n",
        "                X_train_res[col] = X_train_res[col].astype('category')\n",
        "            for col in X_test.select_dtypes(include='object').columns:\n",
        "                X_test[col] = X_test[col].astype('category')\n",
        "\n",
        "            def clean_column_names(df):\n",
        "                df.columns = [\n",
        "                    re.sub(r'[^A-Za-z0-9_]+', '_', col) for col in df.columns\n",
        "                ]\n",
        "                return df\n",
        "\n",
        "            # Limpar nomes das colunas dos datasets usados no fit e predict\n",
        "            X_train_res = clean_column_names(X_train_res)\n",
        "            X_test = clean_column_names(X_test)\n",
        "\n",
        "            # Treinamento e avaliação\n",
        "            model.fit(X_train_res, y_train_res, categorical_feature='auto')\n",
        "            y_pred_test = model.predict(X_test)\n",
        "            y_pred_proba_test = model.predict_proba(X_test)[:, 1]\n",
        "\n",
        "            fpr_test, tpr_test, _ = roc_curve(y_test, y_pred_proba_test)\n",
        "            interp_tpr_test = np.interp(mean_fpr, fpr_test, tpr_test)\n",
        "            interp_tpr_test[0] = 0.0\n",
        "            tprs_test.append(interp_tpr_test)\n",
        "            aucs_test.append(auc(fpr_test, tpr_test))\n",
        "            accuracies_test.append(accuracy_score(y_test, y_pred_test))\n",
        "            precisions_test.append(precision_score(y_test, y_pred_test))\n",
        "            recalls_test.append(recall_score(y_test, y_pred_test))\n",
        "            f1_scores_test.append(f1_score(y_test, y_pred_test))\n",
        "\n",
        "            y_pred_train = model.predict(X_train_res)\n",
        "            y_pred_proba_train = model.predict_proba(X_train_res)[:, 1]\n",
        "\n",
        "            fpr_train, tpr_train, _ = roc_curve(y_train_res, y_pred_proba_train)\n",
        "            interp_tpr_train = np.interp(mean_fpr, fpr_train, tpr_train)\n",
        "            interp_tpr_train[0] = 0.0\n",
        "            tprs_train.append(interp_tpr_train)\n",
        "            aucs_train.append(auc(fpr_train, tpr_train))\n",
        "            accuracies_train.append(accuracy_score(y_train_res, y_pred_train))\n",
        "            precisions_train.append(precision_score(y_train_res, y_pred_train))\n",
        "            recalls_train.append(recall_score(y_train_res, y_pred_train))\n",
        "            f1_scores_train.append(f1_score(y_train_res, y_pred_train))\n",
        "\n",
        "        mean_accuracy_test = np.mean(accuracies_test)\n",
        "        mean_auc_test = np.mean(aucs_test)\n",
        "        mean_precision_test = np.mean(precisions_test)\n",
        "        mean_recall_test = np.mean(recalls_test)\n",
        "        mean_f1_test = np.mean(f1_scores_test)\n",
        "        mean_accuracy_train = np.mean(accuracies_train)\n",
        "        mean_auc_train = np.mean(aucs_train)\n",
        "        mean_precision_train = np.mean(precisions_train)\n",
        "        mean_recall_train = np.mean(recalls_train)\n",
        "        mean_f1_train = np.mean(f1_scores_train)\n",
        "\n",
        "        print(f\"Teste - Accuracy: {mean_accuracy_test:.4f}, AUC: {mean_auc_test:.4f}, Precision: {mean_precision_test:.4f}, Recall: {mean_recall_test:.4f}, F1-score: {mean_f1_test:.4f}\")\n",
        "        print(f\"Treinamento - Accuracy: {mean_accuracy_train:.4f}, AUC: {mean_auc_train:.4f}, Precision: {mean_precision_train:.4f}, Recall: {mean_recall_train:.4f}, F1-score: {mean_f1_train:.4f}\")\n",
        "\n",
        "        results_table_test.append({\n",
        "            \"SMOTE Technique\": smote_name,\n",
        "            \"Model\": model_name,\n",
        "            \"Accuracy\": mean_accuracy_test,\n",
        "            \"AUC\": mean_auc_test,\n",
        "            \"Precision\": mean_precision_test,\n",
        "            \"Recall rate\": mean_recall_test,\n",
        "            \"F1-score\": mean_f1_test\n",
        "        })\n",
        "        results_table_train.append({\n",
        "            \"SMOTE Technique\": smote_name,\n",
        "            \"Model\": model_name,\n",
        "            \"Accuracy\": mean_accuracy_train,\n",
        "            \"AUC\": mean_auc_train,\n",
        "            \"Precision\": mean_precision_train,\n",
        "            \"Recall rate\": mean_recall_train,\n",
        "            \"F1-score\": mean_f1_train\n",
        "        })\n"
      ],
      "metadata": {
        "colab": {
          "base_uri": "https://localhost:8080/"
        },
        "id": "wun4E2DYtwQZ",
        "outputId": "aecdafcf-5185-487f-c2b4-fd2980bf2610"
      },
      "execution_count": null,
      "outputs": [
        {
          "output_type": "stream",
          "name": "stdout",
          "text": [
            "\n",
            "Aplicando clin_smote_balance com LightGBM\n",
            "[LightGBM] [Info] Number of positive: 15357, number of negative: 36433\n",
            "[LightGBM] [Info] Auto-choosing row-wise multi-threading, the overhead of testing was 0.004444 seconds.\n",
            "You can set `force_row_wise=true` to remove the overhead.\n",
            "And if memory is not enough, you can set `force_col_wise=true`.\n",
            "[LightGBM] [Info] Total Bins 283\n",
            "[LightGBM] [Info] Number of data points in the train set: 51790, number of used features: 12\n",
            "[LightGBM] [Info] [binary:BoostFromScore]: pavg=0.296524 -> initscore=-0.863904\n",
            "[LightGBM] [Info] Start training from score -0.863904\n",
            "[LightGBM] [Info] Number of positive: 15357, number of negative: 36433\n",
            "[LightGBM] [Info] Auto-choosing row-wise multi-threading, the overhead of testing was 0.004180 seconds.\n",
            "You can set `force_row_wise=true` to remove the overhead.\n",
            "And if memory is not enough, you can set `force_col_wise=true`.\n",
            "[LightGBM] [Info] Total Bins 279\n",
            "[LightGBM] [Info] Number of data points in the train set: 51790, number of used features: 12\n",
            "[LightGBM] [Info] [binary:BoostFromScore]: pavg=0.296524 -> initscore=-0.863904\n",
            "[LightGBM] [Info] Start training from score -0.863904\n",
            "[LightGBM] [Info] Number of positive: 15357, number of negative: 36434\n",
            "[LightGBM] [Info] Auto-choosing row-wise multi-threading, the overhead of testing was 0.003894 seconds.\n",
            "You can set `force_row_wise=true` to remove the overhead.\n",
            "And if memory is not enough, you can set `force_col_wise=true`.\n",
            "[LightGBM] [Info] Total Bins 275\n",
            "[LightGBM] [Info] Number of data points in the train set: 51791, number of used features: 12\n",
            "[LightGBM] [Info] [binary:BoostFromScore]: pavg=0.296519 -> initscore=-0.863931\n",
            "[LightGBM] [Info] Start training from score -0.863931\n",
            "[LightGBM] [Info] Number of positive: 15357, number of negative: 36434\n",
            "[LightGBM] [Info] Auto-choosing row-wise multi-threading, the overhead of testing was 0.004660 seconds.\n",
            "You can set `force_row_wise=true` to remove the overhead.\n",
            "And if memory is not enough, you can set `force_col_wise=true`.\n",
            "[LightGBM] [Info] Total Bins 276\n",
            "[LightGBM] [Info] Number of data points in the train set: 51791, number of used features: 12\n",
            "[LightGBM] [Info] [binary:BoostFromScore]: pavg=0.296519 -> initscore=-0.863931\n",
            "[LightGBM] [Info] Start training from score -0.863931\n",
            "[LightGBM] [Info] Number of positive: 15357, number of negative: 36434\n",
            "[LightGBM] [Info] Auto-choosing row-wise multi-threading, the overhead of testing was 0.003936 seconds.\n",
            "You can set `force_row_wise=true` to remove the overhead.\n",
            "And if memory is not enough, you can set `force_col_wise=true`.\n",
            "[LightGBM] [Info] Total Bins 275\n",
            "[LightGBM] [Info] Number of data points in the train set: 51791, number of used features: 12\n",
            "[LightGBM] [Info] [binary:BoostFromScore]: pavg=0.296519 -> initscore=-0.863931\n",
            "[LightGBM] [Info] Start training from score -0.863931\n",
            "Teste - Accuracy: 0.8690, AUC: 0.8848, Precision: 0.5515, Recall: 0.6124, F1-score: 0.5803\n",
            "Treinamento - Accuracy: 0.8603, AUC: 0.9227, Precision: 0.7952, Recall: 0.7123, F1-score: 0.7515\n"
          ]
        }
      ]
    }
  ],
  "metadata": {
    "colab": {
      "provenance": [],
      "authorship_tag": "ABX9TyPEZ57TMsjSQmzI7I0nujdi",
      "include_colab_link": true
    },
    "kernelspec": {
      "display_name": "Python 3",
      "name": "python3"
    },
    "language_info": {
      "name": "python"
    }
  },
  "nbformat": 4,
  "nbformat_minor": 0
}