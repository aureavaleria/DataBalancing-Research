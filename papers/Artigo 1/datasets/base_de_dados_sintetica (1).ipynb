{
  "nbformat": 4,
  "nbformat_minor": 0,
  "metadata": {
    "colab": {
      "provenance": []
    },
    "kernelspec": {
      "name": "python3",
      "display_name": "Python 3"
    },
    "language_info": {
      "name": "python"
    }
  },
  "cells": [
    {
      "cell_type": "markdown",
      "source": [
        "# Criação de uma base de dados sintetica para validação de modelos"
      ],
      "metadata": {
        "id": "Cn7ogW-AsCnY"
      }
    },
    {
      "cell_type": "markdown",
      "source": [
        "**Bloco 1: Importação das bibliotecas e configuração inicial**"
      ],
      "metadata": {
        "id": "hyySNaGwsUhb"
      }
    },
    {
      "cell_type": "markdown",
      "source": [
        "Este bloco importa todas as bibliotecas necessárias e configura alguns parâmetros iniciais, como o número de pacientes e as probabilidades para a localização do tumor."
      ],
      "metadata": {
        "id": "RmP8fqRFsWaH"
      }
    },
    {
      "cell_type": "code",
      "source": [
        "# Importação das bibliotecas necessárias\n",
        "from sklearn.metrics import confusion_matrix, classification_report, roc_auc_score, roc_curve, precision_recall_curve, average_precision_score\n",
        "import matplotlib.pyplot as plt\n",
        "import pandas as pd\n",
        "import numpy as np\n",
        "import seaborn as sns\n",
        "from sklearn.ensemble import RandomForestClassifier\n",
        "from sklearn.model_selection import train_test_split\n",
        "\n",
        "# Configuração inicial\n",
        "num_patients = 196"
      ],
      "metadata": {
        "id": "3Ht7mG6ksLgE"
      },
      "execution_count": 3,
      "outputs": []
    },
    {
      "cell_type": "markdown",
      "source": [
        "**Bloco 2: Geração da base de dados fictícia**"
      ],
      "metadata": {
        "id": "IME4885Stnd2"
      }
    },
    {
      "cell_type": "markdown",
      "source": [
        "Neste bloco, geramos as variáveis demográficas, clínicas e tumorais dos pacientes. Utilizamos distribuições que simulam dados realistas para cada variável e salvamos tudo em um dicionário chamado data."
      ],
      "metadata": {
        "id": "_d5EEFwpt1aJ"
      }
    },
    {
      "cell_type": "code",
      "execution_count": 4,
      "metadata": {
        "colab": {
          "base_uri": "https://localhost:8080/"
        },
        "id": "HqmKjEz6a6jY",
        "outputId": "9b05dbe1-4c27-449c-a00d-2ae8c3deb028"
      },
      "outputs": [
        {
          "output_type": "stream",
          "name": "stdout",
          "text": [
            "Soma das probabilidades de Primary tumor site: 1.0\n"
          ]
        }
      ],
      "source": [
        "# Probabilidades para cada local primário do tumor (Primary tumor site)\n",
        "# A soma das probabilidades deve ser exatamente 1 para garantir consistência nas escolhas\n",
        "primary_tumor_site_probabilities = [0.062, 0.052, 0.3, 0.02, 0.15, 0.05, 0.12, 0.114, 0.022, 0.11]\n",
        "print(\"Soma das probabilidades de Primary tumor site:\", sum(primary_tumor_site_probabilities))\n",
        "\n",
        "# Geração da base de dados fictícia\n",
        "\n",
        "# Criação de um dicionário que define cada variável da base de dados (colunas)\n",
        "# Cada chave representa o nome de uma coluna, e o valor é uma lista gerada aleatoriamente com base nas especificações\n",
        "data = {\n",
        "    # Dados demográficos\n",
        "    \"Age (years)\": np.random.normal(loc=65, scale=10, size=num_patients).astype(int),  # Idade dos pacientes\n",
        "    \"Gender\": np.random.choice([\"Female\", \"Male\"], size=num_patients, p=[0.449, 0.551]),  # Gênero\n",
        "    \"Race\": np.random.choice([\"White\", \"Black\", \"Other\"], size=num_patients, p=[0.77, 0.09, 0.14]),  # Raça\n",
        "    \"Hispanic\": np.random.choice([\"No\", \"Yes\"], size=num_patients, p=[0.92, 0.08]),  # Origem hispânica\n",
        "    \"Marital status\": np.random.choice([\"Married\", \"Single\", \"Unknown\"], size=num_patients, p=[0.41, 0.53, 0.06]),  # Estado civil\n",
        "\n",
        "    # Dados sobre o tumor\n",
        "    \"Histological type\": np.random.choice([\"Adenocarcinoma\", \"Mucinous\", \"Signet ring cell carcinoma\"], size=num_patients, p=[0.83, 0.14, 0.03]),  # Tipo histológico\n",
        "    \"Grade\": np.random.choice([\"Grade I\", \"Grade II\", \"Grade III\", \"Grade IV\", \"Unknown\"], size=num_patients, p=[0.133, 0.725, 0.122, 0.015, 0.005]),  # Grau do tumor\n",
        "    \"Primary tumor site\": np.random.choice(\n",
        "        [\"Cecum\", \"Appendix\", \"Ascending colon\", \"Hepatic flexure of colon\", \"Transverse colon\",\n",
        "         \"Splenic flexure of colon\", \"Descending colon\", \"Sigmoid colon\", \"Rectum\", \"Overlapping lesion of colon\"],\n",
        "        size=num_patients,\n",
        "        p=primary_tumor_site_probabilities\n",
        "    ),  # Localização primária do tumor\n",
        "    \"T stage\": np.random.choice([\"T1\", \"T2\", \"T3\", \"T4\", \"TX\"], size=num_patients, p=[0.031, 0.087, 0.658, 0.224, 0.0]),  # Estágio T\n",
        "    \"N stage\": np.random.choice([\"N0\", \"N1\", \"N2\", \"NX\"], size=num_patients, p=[0.571, 0.286, 0.143, 0.0]),  # Estágio N\n",
        "\n",
        "    # Tamanho do tumor e outras características clínicas\n",
        "    \"Tumor size (cm)\": np.where(\n",
        "        np.random.rand(num_patients) < 0.505,  # 50.5% dos tumores serão <5 cm\n",
        "        np.random.normal(loc=3, scale=1, size=num_patients),  # Tamanho médio de 3 cm para tumores <5 cm\n",
        "        np.where(\n",
        "            np.random.rand(num_patients) < 0.342 / (1 - 0.505),  # 34.2% dos tumores restantes são >=5 cm\n",
        "            np.random.normal(loc=7, scale=1.5, size=num_patients),  # Tamanho médio de 7 cm para tumores >=5 cm\n",
        "            np.nan  # 16.2% dos tumores são \"Unknown\" (valores NaN)\n",
        "        )\n",
        "    ).round(2),  # Arredonda o tamanho do tumor para 2 casas decimais\n",
        "\n",
        "    \"CEA\": np.random.choice([\"Negative\", \"Borderline\", \"Positive\", \"Unknown\"], size=num_patients, p=[0.536, 0.0, 0.296, 0.168]),  # Nível de CEA\n",
        "    \"Tumor deposits\": np.random.choice([\"No\", \"Yes\", \"Unknown\"], size=num_patients, p=[0.91, 0.09, 0.0]),  # Depósitos tumorais\n",
        "    \"Liver and/or lung metastasis\": np.random.choice([\"No\", \"Yes\"], size=num_patients, p=[0.825, 0.175])  # Metástase em fígado/pulmão\n",
        "}"
      ]
    },
    {
      "cell_type": "markdown",
      "source": [
        "**Bloco 3: Criação e salvamento do DataFrame**"
      ],
      "metadata": {
        "id": "KtcULh3QuELZ"
      }
    },
    {
      "cell_type": "markdown",
      "source": [
        "Este bloco converte o dicionário data em um DataFrame do Pandas, facilitando a manipulação dos dados. Em seguida, salva o DataFrame como um arquivo CSV, que pode ser baixado do Google Colab para uso posterior."
      ],
      "metadata": {
        "id": "qI9TSIrBuLX5"
      }
    },
    {
      "cell_type": "code",
      "source": [
        "# Criação e salvamento do DataFrame\n",
        "\n",
        "# Converte o dicionário 'data' em um DataFrame do Pandas para manipulação de dados estruturada\n",
        "df = pd.DataFrame(data)\n",
        "\n",
        "# Salva o DataFrame em um arquivo CSV no Google Colab\n",
        "# O arquivo é salvo no diretório '/content/' com o nome 'bdsintetico.csv'\n",
        "df.to_csv('/content/bdsintetico.csv', index=False)\n",
        "print(\"Arquivo CSV salvo como 'bdsintetico.csv'\")\n"
      ],
      "metadata": {
        "colab": {
          "base_uri": "https://localhost:8080/"
        },
        "id": "OyTiuniUuQ5C",
        "outputId": "8e168956-fa50-4ddd-ce99-51558e6a90e6"
      },
      "execution_count": 5,
      "outputs": [
        {
          "output_type": "stream",
          "name": "stdout",
          "text": [
            "Arquivo CSV salvo como 'bdsintetico.csv'\n"
          ]
        }
      ]
    }
  ]
}