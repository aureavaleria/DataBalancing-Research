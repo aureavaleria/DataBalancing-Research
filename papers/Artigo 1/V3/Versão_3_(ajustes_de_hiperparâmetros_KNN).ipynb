{
  "nbformat": 4,
  "nbformat_minor": 0,
  "metadata": {
    "colab": {
      "provenance": [],
      "authorship_tag": "ABX9TyPsJxq4H20tlFZURoupqsw2",
      "include_colab_link": true
    },
    "kernelspec": {
      "name": "python3",
      "display_name": "Python 3"
    },
    "language_info": {
      "name": "python"
    }
  },
  "cells": [
    {
      "cell_type": "markdown",
      "metadata": {
        "id": "view-in-github",
        "colab_type": "text"
      },
      "source": [
        "<a href=\"https://colab.research.google.com/github/aureavaleria/DataBalancing-Research/blob/main/papers/Artigo%201/V3/Vers%C3%A3o_3_(ajustes_de_hiperpar%C3%A2metros_KNN).ipynb\" target=\"_parent\"><img src=\"https://colab.research.google.com/assets/colab-badge.svg\" alt=\"Open In Colab\"/></a>"
      ]
    },
    {
      "cell_type": "markdown",
      "source": [
        "### ***Machine learning for predicting liver and/or lung metastasis in colorectal cancer: A retrospective study based on the SEER database***"
      ],
      "metadata": {
        "id": "113pvqFg3-c3"
      }
    },
    {
      "cell_type": "markdown",
      "source": [
        "Este notebook apresenta um processo de otimização de hiperparâmetros para o modelo XGBoost, utilizando dados extraídos da base SEER, amplamente utilizada em pesquisas oncológicas. O objetivo é ajustar os parâmetros do modelo de forma iterativa, maximizando sua performance com base na métrica AUC-ROC."
      ],
      "metadata": {
        "id": "DZNpPnrb39Dy"
      }
    },
    {
      "cell_type": "markdown",
      "source": [
        "### Parte 1:  Importação das Bibliotecas e Carregamento do Dataset\n",
        "\n",
        "Nesta etapa, importamos as bibliotecas necessárias para análise e carregamos o dataset. Realizamos uma verificação inicial para identificar e remover valores faltantes e definimos as variáveis preditoras (X) e as variáveis alvo (y), preparando os dados para o pré-processamento e a modelagem."
      ],
      "metadata": {
        "id": "FlIOpKhr4CJx"
      }
    },
    {
      "cell_type": "code",
      "source": [
        "# Importação das bibliotecas essenciais\n",
        "import pandas as pd\n",
        "import numpy as np\n",
        "from sklearn.model_selection import GridSearchCV, StratifiedKFold\n",
        "from sklearn.preprocessing import LabelEncoder\n",
        "from sklearn.neighbors import KNeighborsClassifier\n",
        "\n",
        "# Carregar o dataset\n",
        "df = pd.read_csv('https://raw.githubusercontent.com/aureavaleria/Reprodu-o/main/export.csv')\n",
        "\n",
        "# Verificar e remover valores faltantes\n",
        "print(\"Valores faltantes por coluna:\\n\", df.isnull().sum())\n",
        "df.dropna(inplace=True)"
      ],
      "metadata": {
        "colab": {
          "base_uri": "https://localhost:8080/"
        },
        "id": "CwtuxFKG3e1P",
        "outputId": "bf4bc9fd-1ce8-43eb-cd8d-1d1d6939efaa"
      },
      "execution_count": 2,
      "outputs": [
        {
          "output_type": "stream",
          "name": "stdout",
          "text": [
            "Valores faltantes por coluna:\n",
            " Patient ID                                         0\n",
            "Age recode with <1 year olds                       0\n",
            "Sex                                                0\n",
            "Race recode (White, Black, Other)                  0\n",
            "Histologic Type ICD-O-3                            0\n",
            "Grade Recode (thru 2017)                           0\n",
            "Primary Site                                       0\n",
            "Derived AJCC T, 7th ed (2010-2015)                 0\n",
            "Derived AJCC N, 7th ed (2010-2015)                 0\n",
            "CS tumor size (2004-2015)                          0\n",
            "CEA Pretreatment Interpretation Recode (2010+)     0\n",
            "Tumor Deposits Recode (2010+)                      0\n",
            "Marital status at diagnosis                        0\n",
            "Origin recode NHIA (Hispanic, Non-Hisp)            0\n",
            "SEER Combined Mets at DX-lung (2010+)             15\n",
            "SEER Combined Mets at DX-liver (2010+)            12\n",
            "SEER Combined Mets at DX-bone (2010+)             14\n",
            "ICD-O-3 Hist/behav                                 0\n",
            "ICD-O-3 Hist/behav, malignant                      0\n",
            "dtype: int64\n"
          ]
        }
      ]
    },
    {
      "cell_type": "markdown",
      "source": [
        "## Parte 2: Preparação das Variáveis Alvo e Codificação de Variáveis Categóricas\n",
        "Nesta etapa, preparamos as variáveis alvo (y), combinando as informações de metástase hepática e pulmonar em uma coluna binária para indicar a presença de metástase. Também aplicamos LabelEncoder para transformar variáveis categóricas de X em valores numéricos, facilitando o uso dos dados em modelos de aprendizado de máquina."
      ],
      "metadata": {
        "id": "ACoI6JyU4Gkr"
      }
    },
    {
      "cell_type": "code",
      "source": [
        "# Definir as variáveis preditoras (X)\n",
        "X = df[['Age recode with <1 year olds', 'Sex', 'Race recode (White, Black, Other)',\n",
        "        'Histologic Type ICD-O-3', 'Grade Recode (thru 2017)', 'Primary Site',\n",
        "        'Derived AJCC T, 7th ed (2010-2015)', 'Derived AJCC N, 7th ed (2010-2015)',\n",
        "        'CS tumor size (2004-2015)', 'CEA Pretreatment Interpretation Recode (2010+)',\n",
        "        'Tumor Deposits Recode (2010+)', 'Marital status at diagnosis',\n",
        "        'Origin recode NHIA (Hispanic, Non-Hisp)']]\n",
        "\n",
        "# Definir a variável alvo (y)\n",
        "y = (df['SEER Combined Mets at DX-liver (2010+)'] == 'Yes') | (df['SEER Combined Mets at DX-lung (2010+)'] == 'Yes')\n",
        "y = y.astype(int)  # Converter para formato binário (0 ou 1)\n",
        "\n",
        "# Aplicar LabelEncoder às colunas categóricas em X\n",
        "for col in X.columns:\n",
        "    if X[col].dtype == 'object':  # Verifica se a coluna é categórica (strings)\n",
        "        X[col] = LabelEncoder().fit_transform(X[col])\n",
        "\n",
        "# Renomear colunas de X para remover caracteres inválidos\n",
        "X.columns = [str(col).replace('[', '').replace(']', '').replace('<', '').replace('>', '').replace(' ', '_')\n",
        "             for col in X.columns]"
      ],
      "metadata": {
        "colab": {
          "base_uri": "https://localhost:8080/"
        },
        "id": "jxU_gI033ozw",
        "outputId": "63de16e3-49b0-4800-98e9-d377dda1e415"
      },
      "execution_count": 3,
      "outputs": [
        {
          "output_type": "stream",
          "name": "stderr",
          "text": [
            "<ipython-input-3-ea3b5621dd80>:16: SettingWithCopyWarning: \n",
            "A value is trying to be set on a copy of a slice from a DataFrame.\n",
            "Try using .loc[row_indexer,col_indexer] = value instead\n",
            "\n",
            "See the caveats in the documentation: https://pandas.pydata.org/pandas-docs/stable/user_guide/indexing.html#returning-a-view-versus-a-copy\n",
            "  X[col] = LabelEncoder().fit_transform(X[col])\n",
            "<ipython-input-3-ea3b5621dd80>:16: SettingWithCopyWarning: \n",
            "A value is trying to be set on a copy of a slice from a DataFrame.\n",
            "Try using .loc[row_indexer,col_indexer] = value instead\n",
            "\n",
            "See the caveats in the documentation: https://pandas.pydata.org/pandas-docs/stable/user_guide/indexing.html#returning-a-view-versus-a-copy\n",
            "  X[col] = LabelEncoder().fit_transform(X[col])\n",
            "<ipython-input-3-ea3b5621dd80>:16: SettingWithCopyWarning: \n",
            "A value is trying to be set on a copy of a slice from a DataFrame.\n",
            "Try using .loc[row_indexer,col_indexer] = value instead\n",
            "\n",
            "See the caveats in the documentation: https://pandas.pydata.org/pandas-docs/stable/user_guide/indexing.html#returning-a-view-versus-a-copy\n",
            "  X[col] = LabelEncoder().fit_transform(X[col])\n",
            "<ipython-input-3-ea3b5621dd80>:16: SettingWithCopyWarning: \n",
            "A value is trying to be set on a copy of a slice from a DataFrame.\n",
            "Try using .loc[row_indexer,col_indexer] = value instead\n",
            "\n",
            "See the caveats in the documentation: https://pandas.pydata.org/pandas-docs/stable/user_guide/indexing.html#returning-a-view-versus-a-copy\n",
            "  X[col] = LabelEncoder().fit_transform(X[col])\n",
            "<ipython-input-3-ea3b5621dd80>:16: SettingWithCopyWarning: \n",
            "A value is trying to be set on a copy of a slice from a DataFrame.\n",
            "Try using .loc[row_indexer,col_indexer] = value instead\n",
            "\n",
            "See the caveats in the documentation: https://pandas.pydata.org/pandas-docs/stable/user_guide/indexing.html#returning-a-view-versus-a-copy\n",
            "  X[col] = LabelEncoder().fit_transform(X[col])\n",
            "<ipython-input-3-ea3b5621dd80>:16: SettingWithCopyWarning: \n",
            "A value is trying to be set on a copy of a slice from a DataFrame.\n",
            "Try using .loc[row_indexer,col_indexer] = value instead\n",
            "\n",
            "See the caveats in the documentation: https://pandas.pydata.org/pandas-docs/stable/user_guide/indexing.html#returning-a-view-versus-a-copy\n",
            "  X[col] = LabelEncoder().fit_transform(X[col])\n",
            "<ipython-input-3-ea3b5621dd80>:16: SettingWithCopyWarning: \n",
            "A value is trying to be set on a copy of a slice from a DataFrame.\n",
            "Try using .loc[row_indexer,col_indexer] = value instead\n",
            "\n",
            "See the caveats in the documentation: https://pandas.pydata.org/pandas-docs/stable/user_guide/indexing.html#returning-a-view-versus-a-copy\n",
            "  X[col] = LabelEncoder().fit_transform(X[col])\n",
            "<ipython-input-3-ea3b5621dd80>:16: SettingWithCopyWarning: \n",
            "A value is trying to be set on a copy of a slice from a DataFrame.\n",
            "Try using .loc[row_indexer,col_indexer] = value instead\n",
            "\n",
            "See the caveats in the documentation: https://pandas.pydata.org/pandas-docs/stable/user_guide/indexing.html#returning-a-view-versus-a-copy\n",
            "  X[col] = LabelEncoder().fit_transform(X[col])\n",
            "<ipython-input-3-ea3b5621dd80>:16: SettingWithCopyWarning: \n",
            "A value is trying to be set on a copy of a slice from a DataFrame.\n",
            "Try using .loc[row_indexer,col_indexer] = value instead\n",
            "\n",
            "See the caveats in the documentation: https://pandas.pydata.org/pandas-docs/stable/user_guide/indexing.html#returning-a-view-versus-a-copy\n",
            "  X[col] = LabelEncoder().fit_transform(X[col])\n",
            "<ipython-input-3-ea3b5621dd80>:16: SettingWithCopyWarning: \n",
            "A value is trying to be set on a copy of a slice from a DataFrame.\n",
            "Try using .loc[row_indexer,col_indexer] = value instead\n",
            "\n",
            "See the caveats in the documentation: https://pandas.pydata.org/pandas-docs/stable/user_guide/indexing.html#returning-a-view-versus-a-copy\n",
            "  X[col] = LabelEncoder().fit_transform(X[col])\n"
          ]
        }
      ]
    },
    {
      "cell_type": "markdown",
      "source": [
        "##3. Otimização de hiperparâmetros"
      ],
      "metadata": {
        "id": "dyPBVx5u4Mi_"
      }
    },
    {
      "cell_type": "code",
      "execution_count": 4,
      "metadata": {
        "colab": {
          "base_uri": "https://localhost:8080/"
        },
        "id": "O50NXjA9SjWO",
        "outputId": "019c0185-58f4-43f9-ea01-70511b2b2a93"
      },
      "outputs": [
        {
          "output_type": "stream",
          "name": "stdout",
          "text": [
            "Fitting 5 folds for each of 60 candidates, totalling 300 fits\n",
            "\n",
            "Melhores parâmetros para KNN: {'leaf_size': 20, 'metric': 'manhattan', 'n_neighbors': 11, 'weights': 'uniform'}\n",
            "Melhor pontuação (AUC-ROC): 0.8004\n"
          ]
        }
      ],
      "source": [
        "\n",
        "# Configuração do modelo KNN e hiperparâmetros para GridSearchCV\n",
        "knn = KNeighborsClassifier()\n",
        "param_grid = {\n",
        "    \"n_neighbors\": [3, 5, 7, 9, 11],  # Número de vizinhos\n",
        "    \"weights\": [\"uniform\", \"distance\"],  # Ponderação das distâncias\n",
        "    \"metric\": [\"euclidean\", \"manhattan\"],  # Métrica de distância\n",
        "    \"leaf_size\": [20, 30, 40]  # Tamanho das folhas para estrutura de busca\n",
        "}\n",
        "\n",
        "# Configuração para GridSearchCV\n",
        "cv = StratifiedKFold(n_splits=5, shuffle=True, random_state=42)\n",
        "grid_search = GridSearchCV(estimator=knn, param_grid=param_grid, scoring=\"roc_auc\", cv=cv, n_jobs=-1, verbose=1)\n",
        "\n",
        "# Ajustar o modelo\n",
        "grid_search.fit(X, y)\n",
        "\n",
        "# Exibir os melhores parâmetros e pontuação\n",
        "print(\"\\nMelhores parâmetros para KNN:\", grid_search.best_params_)\n",
        "print(f\"Melhor pontuação (AUC-ROC): {grid_search.best_score_:.4f}\")\n",
        "\n",
        "# Salvar resultados em arquivo\n",
        "with open(\"melhores_hiperparametros_knn.txt\", \"w\") as file:\n",
        "    file.write(\"Modelo: KNN\\n\")\n",
        "    file.write(\"Melhores Parâmetros:\\n\")\n",
        "    for param, value in grid_search.best_params_.items():\n",
        "        file.write(f\"  {param}: {value}\\n\")\n",
        "    file.write(f\"Melhor Pontuação (AUC-ROC): {grid_search.best_score_:.4f}\\n\")\n"
      ]
    }
  ]
}